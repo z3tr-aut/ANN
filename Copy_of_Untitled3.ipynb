{
  "nbformat": 4,
  "nbformat_minor": 0,
  "metadata": {
    "colab": {
      "provenance": [],
      "authorship_tag": "ABX9TyPsZOM9b/2FIfmxQNI34fNY",
      "include_colab_link": true
    },
    "kernelspec": {
      "name": "python3",
      "display_name": "Python 3"
    },
    "language_info": {
      "name": "python"
    }
  },
  "cells": [
    {
      "cell_type": "markdown",
      "metadata": {
        "id": "view-in-github",
        "colab_type": "text"
      },
      "source": [
        "<a href=\"https://colab.research.google.com/github/z3tr-aut/ANN/blob/main/Copy_of_Untitled3.ipynb\" target=\"_parent\"><img src=\"https://colab.research.google.com/assets/colab-badge.svg\" alt=\"Open In Colab\"/></a>"
      ]
    },
    {
      "cell_type": "markdown",
      "source": [
        "**Exercise** 1"
      ],
      "metadata": {
        "id": "UPG3dmmAnI_j"
      }
    },
    {
      "cell_type": "code",
      "execution_count": null,
      "metadata": {
        "colab": {
          "base_uri": "https://localhost:8080/"
        },
        "id": "adv8qaN1lZKE",
        "outputId": "c591588f-71b6-424a-aca0-97359264be80"
      },
      "outputs": [
        {
          "output_type": "stream",
          "name": "stdout",
          "text": [
            "Please enter the first float number (v1): 1.2\n",
            "please enter the second float number (v2): 2.8\n",
            "The entered numbers are: v1 = 1.2, v2 = 2.8\n",
            "The ceil of v1 is: 2\n",
            "The floor of v1 is: 1\n",
            "The ceil of v2 is: 3\n",
            "The floor of v2 is: 2\n",
            "The remainder when v1 is divided by v2 is: 1.2\n",
            "The square root of v1 is: 1.0954451150103321\n",
            "The square root of v2 is: 1.6733200530681511\n"
          ]
        }
      ],
      "source": [
        "import math\n",
        "\n",
        "v1 = float(input(\"Please enter the first float number (v1): \"))\n",
        "v2 = float(input(\"please enter the second float number (v2): \"))\n",
        "\n",
        "print(f\"The entered numbers are: v1 = {v1}, v2 = {v2}\")\n",
        "\n",
        "v1_ceil = math.ceil(v1)\n",
        "v1_floor = math.floor(v1)\n",
        "\n",
        "v2_ceil = math.ceil(v2)\n",
        "v2_floor = math.floor(v2)\n",
        "\n",
        "v1_sqrt = math.sqrt(v1)\n",
        "v2_sqrt = math.sqrt(v2)\n",
        "\n",
        "remainder = math.remainder(v1, v2)\n",
        "\n",
        "\n",
        "print(f\"The ceil of v1 is: {v1_ceil}\")\n",
        "print(f\"The floor of v1 is: {v1_floor}\")\n",
        "\n",
        "print(f\"The ceil of v2 is: {v2_ceil}\")\n",
        "print(f\"The floor of v2 is: {v2_floor}\")\n",
        "\n",
        "print(f\"The remainder when v1 is divided by v2 is: {remainder}\")\n",
        "\n",
        "print(f\"The square root of v1 is: {v1_sqrt}\")\n",
        "print(f\"The square root of v2 is: {v2_sqrt}\")"
      ]
    },
    {
      "cell_type": "markdown",
      "source": [
        "**Exercise 2**"
      ],
      "metadata": {
        "id": "j786NX7cnc5E"
      }
    },
    {
      "cell_type": "code",
      "source": [
        "import numpy as np\n",
        "\n",
        "emp1 = {'ID': 2561, 'Department': 'CS', 'Name': 'Emp1', 'Salary': 600}\n",
        "emp2 = {'ID': 7894, 'Department': 'Eng', 'Name': 'Emp2', 'Salary': 750}\n",
        "emp3 = {'ID': 1254, 'Department': 'Qua', 'Name': 'Emp3', 'Salary': 680}\n",
        "emp4 = {'ID': 7744, 'Department': 'Eng', 'Name': 'Emp4', 'Salary': 1520}\n",
        "\n",
        "empDict = {\n",
        "    'Emp1': emp1,\n",
        "    'Emp2': emp2,\n",
        "    'Emp3': emp3,\n",
        "    'Emp4': emp4\n",
        "}\n",
        "\n",
        "print(f\"Number of elements in empDict: {len(empDict)}\")\n",
        "\n",
        "genders = ['F', 'M', 'M', 'F']\n",
        "for i, (key, employee) in enumerate(empDict.items()):\n",
        "    employee['Gender'] = genders[i]\n",
        "\n",
        "print(\"Keys of empDict:\", empDict.keys())\n",
        "\n",
        "print(\"Department of Emp4:\", empDict['Emp4']['Department'])\n",
        "\n",
        "empDict['Emp4']['Department'] = 'SWE'\n",
        "\n",
        "print(\"Updated Department of Emp4:\", empDict['Emp4']['Department'])"
      ],
      "metadata": {
        "colab": {
          "base_uri": "https://localhost:8080/"
        },
        "id": "PA8rcpYtnH5C",
        "outputId": "c964df1f-ce61-49e7-88d8-af6c52a3ce23"
      },
      "execution_count": null,
      "outputs": [
        {
          "output_type": "stream",
          "name": "stdout",
          "text": [
            "Number of elements in empDict: 4\n",
            "Keys of empDict: dict_keys(['Emp1', 'Emp2', 'Emp3', 'Emp4'])\n",
            "Department of Emp4: Eng\n",
            "Updated Department of Emp4: SWE\n"
          ]
        }
      ]
    },
    {
      "cell_type": "markdown",
      "source": [
        "**Exercise** **3**\n"
      ],
      "metadata": {
        "id": "o6EjqCGypRPD"
      }
    },
    {
      "cell_type": "code",
      "source": [
        "import pandas as pd\n",
        "\n",
        "empDict = {\n",
        "    'ID': [2561, 7894, 1254, 7744],\n",
        "    'Department': ['CS', 'Eng', 'Qua', 'Eng'],\n",
        "    'Name': ['Emp1', 'Emp2', 'Emp3', 'Emp4'],\n",
        "    'Salary': [600, 750, 680, 1520],\n",
        "    'Gender': ['F', 'M', 'M', 'F']\n",
        "}\n",
        "\n",
        "employee_df = pd.DataFrame(empDict)\n",
        "\n",
        "def printDF(df):\n",
        "    print(\"Shape of DataFrame:\", df.shape)\n",
        "    print(\"Columns of DataFrame:\", df.columns.tolist())\n",
        "    print(\"DataFrame:\\n\", df)\n",
        "\n",
        "printDF(employee_df)\n",
        "\n",
        "def printCol(df, column_label):\n",
        "    if column_label in df.columns:\n",
        "        print(f\"Data in column '{column_label}':\\n\", df[column_label])\n",
        "    else:\n",
        "        print(f\"Column '{column_label}' not found in DataFrame.\")\n",
        "\n",
        "printCol(employee_df, 'Department')\n",
        "\n",
        "print(\"Third row in employee DataFrame:\\n\", employee_df.iloc[2])\n",
        "\n",
        "employee_df.at[0, 'Name'] = 'YourName'\n",
        "\n",
        "print(\"Second row in employee DataFrame:\\n\", employee_df.iloc[1])\n",
        "\n",
        "avg_salary = employee_df['Salary'].mean()\n",
        "min_salary = employee_df['Salary'].min()\n",
        "max_salary = employee_df['Salary'].max()\n",
        "\n",
        "print(f\"Average Salary: {avg_salary}\")\n",
        "print(f\"Minimum Salary: {min_salary}\")\n",
        "print(f\"Maximum Salary: {max_salary}\")\n"
      ],
      "metadata": {
        "colab": {
          "base_uri": "https://localhost:8080/"
        },
        "id": "Yb1LPNazpW1G",
        "outputId": "1475b7c9-b2d3-496f-e323-816c2c679b8d"
      },
      "execution_count": null,
      "outputs": [
        {
          "output_type": "stream",
          "name": "stdout",
          "text": [
            "Shape of DataFrame: (4, 5)\n",
            "Columns of DataFrame: ['ID', 'Department', 'Name', 'Salary', 'Gender']\n",
            "DataFrame:\n",
            "      ID Department  Name  Salary Gender\n",
            "0  2561         CS  Emp1     600      F\n",
            "1  7894        Eng  Emp2     750      M\n",
            "2  1254        Qua  Emp3     680      M\n",
            "3  7744        Eng  Emp4    1520      F\n",
            "Data in column 'Department':\n",
            " 0     CS\n",
            "1    Eng\n",
            "2    Qua\n",
            "3    Eng\n",
            "Name: Department, dtype: object\n",
            "Third row in employee DataFrame:\n",
            " ID            1254\n",
            "Department     Qua\n",
            "Name          Emp3\n",
            "Salary         680\n",
            "Gender           M\n",
            "Name: 2, dtype: object\n",
            "Second row in employee DataFrame:\n",
            " ID            7894\n",
            "Department     Eng\n",
            "Name          Emp2\n",
            "Salary         750\n",
            "Gender           M\n",
            "Name: 1, dtype: object\n",
            "Average Salary: 887.5\n",
            "Minimum Salary: 600\n",
            "Maximum Salary: 1520\n"
          ]
        }
      ]
    }
  ]
}