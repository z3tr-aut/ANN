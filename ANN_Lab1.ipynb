{
  "nbformat": 4,
  "nbformat_minor": 0,
  "metadata": {
    "colab": {
      "provenance": [],
      "authorship_tag": "ABX9TyNPZOe7LAWU1VpeBWkcGk02",
      "include_colab_link": true
    },
    "kernelspec": {
      "name": "python3",
      "display_name": "Python 3"
    },
    "language_info": {
      "name": "python"
    }
  },
  "cells": [
    {
      "cell_type": "markdown",
      "metadata": {
        "id": "view-in-github",
        "colab_type": "text"
      },
      "source": [
        "<a href=\"https://colab.research.google.com/github/z3tr-aut/ANN/blob/main/ANN_Lab1.ipynb\" target=\"_parent\"><img src=\"https://colab.research.google.com/assets/colab-badge.svg\" alt=\"Open In Colab\"/></a>"
      ]
    },
    {
      "cell_type": "code",
      "execution_count": 3,
      "metadata": {
        "colab": {
          "base_uri": "https://localhost:8080/"
        },
        "id": "e7sV3COk7uND",
        "outputId": "7b0e153e-08f2-4430-86f1-2d32458701e5"
      },
      "outputs": [
        {
          "output_type": "stream",
          "name": "stdout",
          "text": [
            "Sum= 15\n",
            "dif= -5\n",
            "multi= 50\n",
            "div= 0.5\n",
            "the sum of the numbers 5,10 is 15\n",
            "the diff of the numbers 5,10 is -5\n",
            "the multi of the numbers 5,10 is 50\n",
            "the div of the numbers 5,10 is 0.5\n"
          ]
        }
      ],
      "source": [
        "a=5\n",
        "b=10\n",
        "sum = a+b\n",
        "diff = a-b\n",
        "multi = a*b\n",
        "div = a/b\n",
        "print(\"Sum=\", sum)\n",
        "print(\"dif=\", diff)\n",
        "print(\"multi=\", multi)\n",
        "print(\"div=\", div)\n",
        "print(f\"the sum of the numbers {a},{b} is {sum}\")\n",
        "print(f\"the diff of the numbers {a},{b} is {diff}\")\n",
        "print(f\"the multi of the numbers {a},{b} is {multi}\")\n",
        "print(f\"the div of the numbers {a},{b} is {div}\")"
      ]
    },
    {
      "cell_type": "code",
      "source": [
        "x = 27//8\n",
        "print(x)\n",
        "y = 29//4\n",
        "print(y)\n",
        "s = 50%12\n",
        "print(s)"
      ],
      "metadata": {
        "colab": {
          "base_uri": "https://localhost:8080/"
        },
        "id": "DTReQrPhsa8e",
        "outputId": "6b783e79-6eb2-4799-abc4-21352e563486"
      },
      "execution_count": 11,
      "outputs": [
        {
          "output_type": "stream",
          "name": "stdout",
          "text": [
            "3\n",
            "7\n",
            "2\n"
          ]
        }
      ]
    },
    {
      "cell_type": "code",
      "source": [
        "#boolean variables\n",
        "x =10\n",
        "y =20\n",
        "is_greater = x>y\n",
        "is_equal = x==y\n",
        "is_not_equal = x !=y\n",
        "print(\"is x greater than y?\",is_greater)\n",
        "print(\"is x equal to y?\",is_equal)\n",
        "print(\"is x not equal to y?\",is_not_equal)"
      ],
      "metadata": {
        "id": "GTorYhRIBBfX",
        "colab": {
          "base_uri": "https://localhost:8080/"
        },
        "outputId": "a140677d-35f9-41eb-82ad-7e54d1e952ab"
      },
      "execution_count": 12,
      "outputs": [
        {
          "output_type": "stream",
          "name": "stdout",
          "text": [
            "is x greater than y? False\n",
            "is x equal to y? False\n",
            "is x not equal to y? True\n"
          ]
        }
      ]
    },
    {
      "cell_type": "code",
      "source": [
        "#variable assignment\n",
        "name = \"abdelrhman\"\n",
        "age = 20\n",
        "is_student = True\n",
        "print(f\"{name} his age is {age} ,is he a student in aut?{is_student}\")"
      ],
      "metadata": {
        "id": "M-FmpTsP9t5r",
        "colab": {
          "base_uri": "https://localhost:8080/"
        },
        "outputId": "63ca917a-9901-466f-d301-80bde589adbf"
      },
      "execution_count": 20,
      "outputs": [
        {
          "output_type": "stream",
          "name": "stdout",
          "text": [
            "abdelrhman his age is 20 ,is he a student in aut?True\n"
          ]
        }
      ]
    },
    {
      "cell_type": "code",
      "source": [
        "def hello(name):\n",
        " return \"hello \" + name +\" !\"\n",
        "my_name = input(\"enter ur name:\")\n",
        "hello(my_name)"
      ],
      "metadata": {
        "colab": {
          "base_uri": "https://localhost:8080/",
          "height": 53
        },
        "id": "uWr_3Q6zwB7N",
        "outputId": "4075f269-3cc9-4d1a-d220-2b9f43447920"
      },
      "execution_count": 30,
      "outputs": [
        {
          "name": "stdout",
          "output_type": "stream",
          "text": [
            "enter ur name:abod'\n"
          ]
        },
        {
          "output_type": "execute_result",
          "data": {
            "text/plain": [
              "\"hello abod' !\""
            ],
            "application/vnd.google.colaboratory.intrinsic+json": {
              "type": "string"
            }
          },
          "metadata": {},
          "execution_count": 30
        }
      ]
    },
    {
      "cell_type": "code",
      "source": [
        "def add_numbers(a,b):\n",
        "   return a+b\n",
        "a = eval(input(\"enter first number\"))\n",
        "b = eval(input(\"enter secound number\"))\n",
        "sum_value = add_numbers(a,b)\n",
        "print(f\"the sum of the numbers {a} , {b} = ,{sum_value}\")"
      ],
      "metadata": {
        "colab": {
          "base_uri": "https://localhost:8080/"
        },
        "id": "H-FCk0Muw_XU",
        "outputId": "9db9ad43-7fa2-4853-d7f5-7308afdd49d3"
      },
      "execution_count": 43,
      "outputs": [
        {
          "output_type": "stream",
          "name": "stdout",
          "text": [
            "enter first number2.1\n",
            "enter secound number2.1\n",
            "the sum of the numbers 2.1 , 2.1 = ,4.2\n"
          ]
        }
      ]
    },
    {
      "cell_type": "code",
      "source": [
        "#strings\n",
        "message = \"Hello, World\"\n",
        "length = len(message)\n",
        "uppercase = message.upper()\n",
        "lowercase = message.lower()\n",
        "substring =message[7:12]\n",
        "\n",
        "print(\"Original message: \", message)\n",
        "print(\"The length is: \", length)\n",
        "print(\"Upper case:\", uppercase)\n",
        "print(\"Lower case: \", lowercase)\n",
        "print(\"ParTof the message is: \", substring)"
      ],
      "metadata": {
        "colab": {
          "base_uri": "https://localhost:8080/"
        },
        "id": "Ik4J496A054Y",
        "outputId": "2df1d0e5-a87f-4798-adcf-9dd045d4cb64"
      },
      "execution_count": 44,
      "outputs": [
        {
          "output_type": "stream",
          "name": "stdout",
          "text": [
            "Original message:  Hello, World\n",
            "The length is:  12\n",
            "Upper case: HELLO, WORLD\n",
            "Lower case:  hello, world\n",
            "ParTof the message is:  World\n"
          ]
        }
      ]
    },
    {
      "cell_type": "code",
      "source": [
        "# Basic input example\n",
        "First = input(\"Enter the last name, first name: \")\n",
        "Last = input(\"Enter the last name, last name: \")\n",
        "\n",
        "print(f\"{First},{Last}\")"
      ],
      "metadata": {
        "colab": {
          "base_uri": "https://localhost:8080/"
        },
        "id": "vEjmpFT319S2",
        "outputId": "d479e383-6395-44dd-f016-df569fd52bad"
      },
      "execution_count": 46,
      "outputs": [
        {
          "output_type": "stream",
          "name": "stdout",
          "text": [
            "Enter the last name, first name: abd\n",
            "Enter the last name, last name: quran\n",
            "abd,quran\n"
          ]
        }
      ]
    },
    {
      "cell_type": "code",
      "source": [
        "# Numeric input example\n",
        "age = int(input(\"Enter your age: \"))\n",
        "print(\"You will be\", age + 1, \"years old next year.\")"
      ],
      "metadata": {
        "colab": {
          "base_uri": "https://localhost:8080/"
        },
        "id": "wZvkLxEZ28M6",
        "outputId": "4b56f67c-6454-4ebb-b359-768a4d556f5b"
      },
      "execution_count": 47,
      "outputs": [
        {
          "output_type": "stream",
          "name": "stdout",
          "text": [
            "Enter your age: 20\n",
            "You will be 21 years old next year.\n"
          ]
        }
      ]
    },
    {
      "cell_type": "code",
      "source": [
        "# Calculations with input\n",
        "\n",
        "num1= float(input(\"Enter a number: \"))\n",
        "num2 = float(input(\"Enter another number: \"))\n",
        "sum_result = num1 + num2\n",
        "print(\"Sum:\", sum_result)"
      ],
      "metadata": {
        "colab": {
          "base_uri": "https://localhost:8080/"
        },
        "id": "WWgYPjI33LL6",
        "outputId": "4c8c4556-e53d-4044-aff5-e4898af82189"
      },
      "execution_count": 48,
      "outputs": [
        {
          "output_type": "stream",
          "name": "stdout",
          "text": [
            "Enter a number: 11\n",
            "Enter another number: 13\n",
            "Sum: 24.0\n"
          ]
        }
      ]
    },
    {
      "cell_type": "code",
      "source": [
        "# String concatenation with input\n",
        "city = input(\"Enter your city: \")\n",
        "country = input(\"Enter your country: \")\n",
        "location = city +\", \" + country\n",
        "print(\"You are in:\", location)"
      ],
      "metadata": {
        "colab": {
          "base_uri": "https://localhost:8080/"
        },
        "id": "wB6k2MuJ3dKh",
        "outputId": "98a4726d-3bc8-476b-d4e5-a63b9b703b5c"
      },
      "execution_count": 49,
      "outputs": [
        {
          "output_type": "stream",
          "name": "stdout",
          "text": [
            "Enter your city: aqaba\n",
            "Enter your country: jordan\n",
            "You are in: aqaba, jordan\n"
          ]
        }
      ]
    },
    {
      "cell_type": "code",
      "source": [
        "# Multiple inputs\n",
        "name, age = input(\"Enter your name and age sperated by space: \").split()\n",
        "print(f\"my name is {name} and my age is {age}\")"
      ],
      "metadata": {
        "colab": {
          "base_uri": "https://localhost:8080/"
        },
        "id": "ZfLhoNiz3wj0",
        "outputId": "f68ff9ef-42b2-4f3d-8749-4775f57fa5c5"
      },
      "execution_count": 50,
      "outputs": [
        {
          "output_type": "stream",
          "name": "stdout",
          "text": [
            "Enter your name and age sperated by space: abd 20\n",
            "my name is abd and my age is 20\n"
          ]
        }
      ]
    }
  ]
}