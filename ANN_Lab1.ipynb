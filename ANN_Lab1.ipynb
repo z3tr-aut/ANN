{
  "nbformat": 4,
  "nbformat_minor": 0,
  "metadata": {
    "colab": {
      "provenance": [],
      "authorship_tag": "ABX9TyOkeoe3An9D4/+R3TFGhE+w",
      "include_colab_link": true
    },
    "kernelspec": {
      "name": "python3",
      "display_name": "Python 3"
    },
    "language_info": {
      "name": "python"
    }
  },
  "cells": [
    {
      "cell_type": "markdown",
      "metadata": {
        "id": "view-in-github",
        "colab_type": "text"
      },
      "source": [
        "<a href=\"https://colab.research.google.com/github/z3tr-aut/ANN/blob/main/ANN_Lab1.ipynb\" target=\"_parent\"><img src=\"https://colab.research.google.com/assets/colab-badge.svg\" alt=\"Open In Colab\"/></a>"
      ]
    },
    {
      "cell_type": "code",
      "execution_count": 1,
      "metadata": {
        "colab": {
          "base_uri": "https://localhost:8080/"
        },
        "id": "e7sV3COk7uND",
        "outputId": "037c14e2-5ded-49b3-9fdc-4cc3801ed0e2"
      },
      "outputs": [
        {
          "output_type": "stream",
          "name": "stdout",
          "text": [
            "Sum= 15\n"
          ]
        }
      ],
      "source": [
        "a=5\n",
        "b=10\n",
        "sum = a+b\n",
        "print(\"Sum=\", sum)"
      ]
    }
  ]
}